{
  "nbformat": 4,
  "nbformat_minor": 0,
  "metadata": {
    "colab": {
      "provenance": [],
      "include_colab_link": true
    },
    "kernelspec": {
      "name": "python3",
      "display_name": "Python 3"
    },
    "language_info": {
      "name": "python"
    }
  },
  "cells": [
    {
      "cell_type": "markdown",
      "metadata": {
        "id": "view-in-github",
        "colab_type": "text"
      },
      "source": [
        "<a href=\"https://colab.research.google.com/github/nalinis07/PRO_Colabs/blob/MASTER/PRO_C125_Reference_Code.ipynb\" target=\"_parent\"><img src=\"https://colab.research.google.com/assets/colab-badge.svg\" alt=\"Open In Colab\"/></a>"
      ]
    },
    {
      "cell_type": "markdown",
      "source": [
        "## RL Problem to Solve:\n",
        "\n",
        "The **machine/bot** needs to find a way out to reach the **Goal**(Room Number 5).The machine will start from any room randomly.\n",
        "\n",
        "<img src=\"https://s3-whjr-curriculum-uploads.whjr.online/f39c3b14-04c8-4171-8bd4-7693efcdb792.jpg\" width= 400>"
      ],
      "metadata": {
        "id": "aCnIdKh4KFC0"
      }
    },
    {
      "cell_type": "markdown",
      "source": [
        "## RL Components:\n",
        "\n",
        "* Environment\n",
        "\n",
        "<img src=\"https://s3-whjr-curriculum-uploads.whjr.online/af5a1d77-041a-4bba-be4e-ca26aea97771.png\" width= 300>\n",
        "\n",
        "* Agent\n",
        "\n",
        "<img src=\"https://s3-whjr-curriculum-uploads.whjr.online/fda2e793-0302-420c-981b-dbf32ecb1d12.png\" width= 200>\n",
        "\n",
        "* States\n",
        "\n",
        "> The agent/machine can be in any of the 6 rooms( 5 rooms + 1 goal room) of the\n",
        "lobby. Hence there **6 possible states**.\n",
        "\n",
        "> <img src=\"https://s3-whjr-curriculum-uploads.whjr.online/e0f568a6-77af-4b52-873e-8949f388cbb6.jpg\" width= 50>\n",
        "\n",
        "\n",
        "* Actions\n",
        "\n",
        "> The agent/machine can choose to move to any of the 6 rooms( 5 rooms + 1 goal room) of the lobby. Hence there also **6 possible actions**.\n",
        "\n",
        "\n",
        "> <img src=\"https://s3-whjr-curriculum-uploads.whjr.online/0e684ce5-6454-47bd-bb2d-d3668f7a0370.jpg\" width= 300>\n",
        "\n",
        "\n",
        "* Rewards\n",
        "\n",
        "> **Possible Rewards: -1, 0, 100**\n",
        "\n",
        "\n",
        "> <img src=\"https://s3-whjr-curriculum-uploads.whjr.online/7f9acae9-73be-41ab-8686-0cd74f4840ad.jpg\" width= 300>\n",
        "\n",
        "\n",
        "* **Can’t Move**:If there no direct way from one room\n",
        "to another, then the reward is -1.\n",
        "\n",
        "* **Move**: If the machine can move from the current\n",
        "room(state) to the next room(action)\n",
        "then the reward is 0.\n",
        "\n",
        "* **Goal**: If the machine is at/reached the goal,\n",
        "then the reward is 100\n"
      ],
      "metadata": {
        "id": "tdiCuNnbKSYk"
      }
    },
    {
      "cell_type": "markdown",
      "source": [
        "## Import Modules"
      ],
      "metadata": {
        "id": "1kO4h0vHggqj"
      }
    },
    {
      "cell_type": "code",
      "execution_count": null,
      "metadata": {
        "id": "WKZ1AbHZowja"
      },
      "outputs": [],
      "source": [
        "import numpy as np\n",
        "import random"
      ]
    },
    {
      "cell_type": "markdown",
      "source": [
        "## Reward Martix\n",
        "\n",
        "> Click on the [Reward Matrix](https://whitehatjrcontent.s3.ap-south-1.amazonaws.com/Teacher-Resources/COCOS_Applets/POC/Coding/SimpleQ-RL/rewardsOnly/index.html) link to understand reward allocation.\n",
        "\n",
        "> <img src=\"https://s3-whjr-curriculum-uploads.whjr.online/46dc27ea-cc8c-4b7b-959f-88406531a3c3.jpg\" width= 400>\n",
        "\n",
        "* **Can’t Move**:If there no direct way from one room\n",
        "to another, then the reward is -1.\n",
        "\n",
        "* **Move**: If the machine can move from the current\n",
        "room(state) to the next room(action)\n",
        "then the reward is 0.\n",
        "\n",
        "* **Goal**: If the machine is at/reached the goal,\n",
        "then the reward is 100.\n",
        "\n",
        "> <img src=\"https://s3-whjr-curriculum-uploads.whjr.online/3183f05b-f22f-46b6-96b4-00043c942250.jpg\" width= 400>\n"
      ],
      "metadata": {
        "id": "OFfnElA8dplz"
      }
    },
    {
      "cell_type": "code",
      "source": [
        "rewards = np.array([\n",
        "    [-1, -1, -1, -1,  0,  -1],\n",
        "    [-1, -1, -1,  0, -1, 100],\n",
        "    [-1, -1, -1 , 0 ,-1 , -1],\n",
        "    [-1,  0,  0 ,-1  ,-1 , -1],\n",
        "    [0, -1, -1 , -1 ,-1 ,100],\n",
        "    [-1, -1, -1, -1,  0, 100]\n",
        "])"
      ],
      "metadata": {
        "id": "6RjBxy7yo4fg"
      },
      "execution_count": null,
      "outputs": []
    },
    {
      "cell_type": "markdown",
      "source": [
        "## Initial State"
      ],
      "metadata": {
        "id": "DG0GFdSRK0E0"
      }
    },
    {
      "cell_type": "code",
      "source": [
        "def set_initial_state():\n",
        "    return np.random.randint(0, 6)"
      ],
      "metadata": {
        "id": "S-Qe6w--o641"
      },
      "execution_count": null,
      "outputs": []
    },
    {
      "cell_type": "code",
      "source": [
        "set_initial_state()"
      ],
      "metadata": {
        "id": "tC0B10aQpGdd",
        "colab": {
          "base_uri": "https://localhost:8080/"
        },
        "outputId": "ebc7d240-fc79-49af-c575-a7c8236f243f"
      },
      "execution_count": null,
      "outputs": [
        {
          "output_type": "execute_result",
          "data": {
            "text/plain": [
              "2"
            ]
          },
          "metadata": {},
          "execution_count": 41
        }
      ]
    },
    {
      "cell_type": "markdown",
      "source": [
        "## Get Action"
      ],
      "metadata": {
        "id": "5Il_z3UNLrsZ"
      }
    },
    {
      "cell_type": "code",
      "source": [
        "def get_action(current_state, reward_matrix):\n",
        "    available_action = []\n",
        "    print(\"reward_matrix\",\"\\n\",reward_matrix)\n",
        "    for action in enumerate(reward_matrix[current_state]):\n",
        "        if action[1]!= -1:\n",
        "            available_action.append(action[0])\n",
        "    choose_action = random.choice(available_action)\n",
        "    print(\"Current State\",current_state)\n",
        "    print(\"Random choice of Action from\",available_action,\"is\", choose_action)\n",
        "    return choose_action"
      ],
      "metadata": {
        "id": "3D9SYz0CpBkk"
      },
      "execution_count": null,
      "outputs": []
    },
    {
      "cell_type": "code",
      "source": [
        "#Assume a current state\n",
        "current_state = 4"
      ],
      "metadata": {
        "id": "-A5-F_41pOFu"
      },
      "execution_count": null,
      "outputs": []
    },
    {
      "cell_type": "markdown",
      "source": [
        "##Q matrix\n",
        "**Q-learning** is a reinforcement learning algorithm. Given the current state, it helps to find the best action to be taken by the agent.\n",
        "Q stands for Quality in Q-learning. Quality represents how useful action is in gaining a reward.\n",
        "To perform Q-learning, we use **Q-matrix**. It is also in the form of states as rows and actions as columns. Initially, all the elements of the Q- matrix are zeroes.\n"
      ],
      "metadata": {
        "id": "SUd1Aqd1L78z"
      }
    },
    {
      "cell_type": "code",
      "source": [
        "q_matrix = np.zeros([6,6])\n",
        "print(q_matrix)"
      ],
      "metadata": {
        "colab": {
          "base_uri": "https://localhost:8080/"
        },
        "id": "0vpQ90tdnCEG",
        "outputId": "d8f07065-fc65-462b-c1d2-dc56909dbbf6"
      },
      "execution_count": null,
      "outputs": [
        {
          "output_type": "stream",
          "name": "stdout",
          "text": [
            "[[0. 0. 0. 0. 0. 0.]\n",
            " [0. 0. 0. 0. 0. 0.]\n",
            " [0. 0. 0. 0. 0. 0.]\n",
            " [0. 0. 0. 0. 0. 0.]\n",
            " [0. 0. 0. 0. 0. 0.]\n",
            " [0. 0. 0. 0. 0. 0.]]\n"
          ]
        }
      ]
    },
    {
      "cell_type": "markdown",
      "source": [
        "## Take Action\n",
        "\n",
        "[Q-Matrix](https://whitehatjrcontent.s3.ap-south-1.amazonaws.com/Teacher-Resources/COCOS_Applets/POC/Coding/SimpleQ-RL/noEpisodes/index.html)"
      ],
      "metadata": {
        "id": "7Y-pXTn2LNwF"
      }
    },
    {
      "cell_type": "code",
      "source": [
        "gamma = 0.8\n",
        "\n",
        "def take_action(current_state, reward_matrix, gamma):\n",
        "\n",
        "    action = get_action(current_state, reward_matrix)\n",
        "\n",
        "    #Current State, Action Reward\n",
        "    current_sa_reward = reward_matrix[current_state, action]\n",
        "    print(current_sa_reward)\n",
        "\n",
        "    # New State, Action Reward\n",
        "    q_sa_value = max(q_matrix[action,])\n",
        "    print(q_sa_value)\n",
        "\n",
        "    # Current Q state\n",
        "    q_current_state = current_sa_reward + (gamma * q_sa_value)\n",
        "    print(q_current_state)\n",
        "\n",
        "    # Update Q matrix\n",
        "    q_matrix[current_state,action] = q_current_state\n",
        "\n",
        "    print(\"q_matrix \",\"\\n\", q_matrix)\n",
        "\n",
        "    new_state = action\n",
        "\n",
        "\n",
        "    # print(\"********************************************************************\")\n",
        "\n",
        "    # if new_state == 5:\n",
        "    #     print(\"Reached Goal!\")\n",
        "    # else:\n",
        "    #     print(f\"Old State:{current_state} New State: {new_state}\")\n",
        "\n",
        "    # return new_state"
      ],
      "metadata": {
        "id": "Hi4c2o6fdhlk"
      },
      "execution_count": null,
      "outputs": []
    },
    {
      "cell_type": "code",
      "source": [
        "take_action(current_state, rewards, gamma)"
      ],
      "metadata": {
        "colab": {
          "base_uri": "https://localhost:8080/"
        },
        "id": "VVOA762glOcr",
        "outputId": "973ddb88-0469-46e0-f23b-7b3b27f3d95d"
      },
      "execution_count": null,
      "outputs": [
        {
          "output_type": "stream",
          "name": "stdout",
          "text": [
            "reward_matrix \n",
            " [[ -1  -1  -1  -1   0  -1]\n",
            " [ -1  -1  -1   0  -1 100]\n",
            " [ -1  -1  -1   0  -1  -1]\n",
            " [ -1   0   0  -1  -1  -1]\n",
            " [  0  -1  -1  -1  -1 100]\n",
            " [ -1  -1  -1  -1   0 100]]\n",
            "Current State 4\n",
            "Random choice of Action from [0, 5] is 5\n",
            "100\n",
            "0.0\n",
            "100.0\n",
            "q_matrix  \n",
            " [[  0.   0.   0.   0.   0.   0.]\n",
            " [  0.   0.   0.   0.   0.   0.]\n",
            " [  0.   0.   0.   0.   0.   0.]\n",
            " [  0.   0.   0.   0.   0.   0.]\n",
            " [  0.   0.   0.   0.   0. 100.]\n",
            " [  0.   0.   0.   0.   0.   0.]]\n",
            "********************************************************************\n",
            "Reached Goal!\n"
          ]
        },
        {
          "output_type": "execute_result",
          "data": {
            "text/plain": [
              "5"
            ]
          },
          "metadata": {},
          "execution_count": 46
        }
      ]
    }
  ]
}