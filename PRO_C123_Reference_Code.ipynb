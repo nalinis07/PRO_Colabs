{
  "nbformat": 4,
  "nbformat_minor": 0,
  "metadata": {
    "colab": {
      "provenance": [],
      "include_colab_link": true
    },
    "kernelspec": {
      "name": "python3",
      "display_name": "Python 3"
    },
    "language_info": {
      "name": "python"
    }
  },
  "cells": [
    {
      "cell_type": "markdown",
      "metadata": {
        "id": "view-in-github",
        "colab_type": "text"
      },
      "source": [
        "<a href=\"https://colab.research.google.com/github/nalinis07/PRO_Colabs/blob/MASTER/PRO_C123_Reference_Code.ipynb\" target=\"_parent\"><img src=\"https://colab.research.google.com/assets/colab-badge.svg\" alt=\"Open In Colab\"/></a>"
      ]
    },
    {
      "cell_type": "markdown",
      "source": [
        "## RL Problem to Solve:\n",
        "\n",
        "The **machine/bot** needs to find a way out to reach the **Goal**(Room Number 5).The machine will start from any room randomly.\n",
        "\n",
        "<img src=\"https://s3-whjr-curriculum-uploads.whjr.online/f39c3b14-04c8-4171-8bd4-7693efcdb792.jpg\" width= 400>"
      ],
      "metadata": {
        "id": "gbWq1YuSKHYr"
      }
    },
    {
      "cell_type": "markdown",
      "source": [
        "## RL Components:\n",
        "\n",
        "* Environment\n",
        "\n",
        "<img src=\"https://s3-whjr-curriculum-uploads.whjr.online/af5a1d77-041a-4bba-be4e-ca26aea97771.png\" width= 300>\n",
        "\n",
        "* Agent\n",
        "\n",
        "<img src=\"https://s3-whjr-curriculum-uploads.whjr.online/fda2e793-0302-420c-981b-dbf32ecb1d12.png\" width= 200>\n",
        "\n",
        "* States\n",
        "\n",
        "> The agent/machine can be in any of the 6 rooms( 5 rooms + 1 goal room) of the\n",
        "lobby. Hence there **6 possible states**.\n",
        "\n",
        "> <img src=\"https://s3-whjr-curriculum-uploads.whjr.online/e0f568a6-77af-4b52-873e-8949f388cbb6.jpg\" width= 50>\n",
        "\n",
        "\n",
        "* Actions\n",
        "\n",
        "> The agent/machine can choose to move to any of the 6 rooms( 5 rooms + 1 goal room) of the lobby. Hence there also **6 possible actions**.\n",
        "\n",
        "\n",
        "> <img src=\"https://s3-whjr-curriculum-uploads.whjr.online/0e684ce5-6454-47bd-bb2d-d3668f7a0370.jpg\" width= 300>\n",
        "\n",
        "\n",
        "* Rewards\n",
        "\n",
        "> **Possible Rewards: -1, 0, 100**\n",
        "\n",
        "\n",
        "> <img src=\"https://s3-whjr-curriculum-uploads.whjr.online/7f9acae9-73be-41ab-8686-0cd74f4840ad.jpg\" width= 300>\n",
        "\n",
        "\n",
        "* **Can’t Move**:If there no direct way from one room\n",
        "to another, then the reward is -1.\n",
        "\n",
        "* **Move**: If the machine can move from the current\n",
        "room(state) to the next room(action)\n",
        "then the reward is 0.\n",
        "\n",
        "* **Goal**: If the machine is at/reached the goal,\n",
        "then the reward is 100\n"
      ],
      "metadata": {
        "id": "UfO6LjShKUx0"
      }
    },
    {
      "cell_type": "markdown",
      "source": [
        "## Import Modules"
      ],
      "metadata": {
        "id": "IoIK1JeQKecl"
      }
    },
    {
      "cell_type": "code",
      "execution_count": null,
      "metadata": {
        "id": "WKZ1AbHZowja"
      },
      "outputs": [],
      "source": [
        "import numpy as np\n",
        "import random"
      ]
    },
    {
      "cell_type": "markdown",
      "source": [
        "## Reward Martix\n",
        "\n",
        "> Click on the [Reward Matrix](https://whitehatjrcontent.s3.ap-south-1.amazonaws.com/Teacher-Resources/COCOS_Applets/POC/Coding/SimpleQ-RL/rewardsOnly/index.html) link to understand reward allocation.\n",
        "\n",
        "> <img src=\"https://s3-whjr-curriculum-uploads.whjr.online/46dc27ea-cc8c-4b7b-959f-88406531a3c3.jpg\" width= 400>\n",
        "\n",
        "* **Can’t Move**:If there no direct way from one room\n",
        "to another, then the reward is -1.\n",
        "\n",
        "* **Move**: If the machine can move from the current\n",
        "room(state) to the next room(action)\n",
        "then the reward is 0.\n",
        "\n",
        "* **Goal**: If the machine is at/reached the goal,\n",
        "then the reward is 100.\n",
        "\n",
        "> <img src=\"https://s3-whjr-curriculum-uploads.whjr.online/3183f05b-f22f-46b6-96b4-00043c942250.jpg\" width= 400>"
      ],
      "metadata": {
        "id": "2aeQKNY4Ku9j"
      }
    },
    {
      "cell_type": "code",
      "source": [
        "rewards = np.array([\n",
        "    [-1, -1, -1, -1,  0,  -1],\n",
        "    [-1, -1, -1,  0, -1, 100],\n",
        "    [-1, -1, -1 , 0 ,-1 , -1],\n",
        "    [-1,  0,  0 ,-1  ,-1 , -1],\n",
        "    [0, -1, -1 , -1 ,-1 ,100],\n",
        "    [-1, -1, -1, -1,  0, 100]\n",
        "])"
      ],
      "metadata": {
        "id": "6RjBxy7yo4fg"
      },
      "execution_count": null,
      "outputs": []
    },
    {
      "cell_type": "markdown",
      "source": [
        "## Initial State"
      ],
      "metadata": {
        "id": "GTj7j-a6K3S_"
      }
    },
    {
      "cell_type": "code",
      "source": [
        "def set_initial_state():\n",
        "    return np.random.randint(0, 6)"
      ],
      "metadata": {
        "id": "S-Qe6w--o641"
      },
      "execution_count": null,
      "outputs": []
    },
    {
      "cell_type": "code",
      "source": [
        "set_initial_state()"
      ],
      "metadata": {
        "id": "tC0B10aQpGdd",
        "colab": {
          "base_uri": "https://localhost:8080/"
        },
        "outputId": "09a97d43-038d-4abf-b589-2690e66de501"
      },
      "execution_count": null,
      "outputs": [
        {
          "output_type": "execute_result",
          "data": {
            "text/plain": [
              "0"
            ]
          },
          "metadata": {},
          "execution_count": 4
        }
      ]
    },
    {
      "cell_type": "markdown",
      "source": [
        "## Get Action"
      ],
      "metadata": {
        "id": "Cv3ucAIxLPFu"
      }
    },
    {
      "cell_type": "code",
      "source": [
        "def get_action(current_state, reward_matrix):\n",
        "    available_action = []\n",
        "    print(\"reward_matrix\",\"\\n\",reward_matrix)\n",
        "    for action in enumerate(reward_matrix[current_state]):\n",
        "        if action[1]!= -1:\n",
        "            available_action.append(action[0])\n",
        "    choose_action = random.choice(available_action)\n",
        "    print(\"Random choice of action from\",available_action,\"is\", choose_action)\n",
        "    return choose_action"
      ],
      "metadata": {
        "id": "3D9SYz0CpBkk"
      },
      "execution_count": null,
      "outputs": []
    },
    {
      "cell_type": "code",
      "source": [
        "#Call get_action function\n",
        "current_state = 3\n",
        "action = get_action(current_state, rewards)\n",
        "print(action)"
      ],
      "metadata": {
        "id": "-A5-F_41pOFu",
        "colab": {
          "base_uri": "https://localhost:8080/"
        },
        "outputId": "6e86c1d9-b589-4709-9dc1-c5c7d3a7f5ee"
      },
      "execution_count": null,
      "outputs": [
        {
          "output_type": "stream",
          "name": "stdout",
          "text": [
            "reward_matrix \n",
            " [[ -1  -1  -1  -1   0  -1]\n",
            " [ -1  -1  -1   0  -1 100]\n",
            " [ -1  -1  -1   0  -1  -1]\n",
            " [ -1   0   0  -1  -1  -1]\n",
            " [  0  -1  -1  -1  -1 100]\n",
            " [ -1  -1  -1  -1   0 100]]\n",
            "Random choice of action from [1, 2] is 1\n",
            "1\n"
          ]
        }
      ]
    },
    {
      "cell_type": "code",
      "source": [
        "#Call get_action function for current state=4\n",
        "current_state = 4\n",
        "action = get_action(current_state, rewards)\n",
        "print(action)"
      ],
      "metadata": {
        "colab": {
          "base_uri": "https://localhost:8080/"
        },
        "id": "zYh8r7YyaJCk",
        "outputId": "74b5d955-88df-40c8-e116-8eba6730404b"
      },
      "execution_count": null,
      "outputs": [
        {
          "output_type": "stream",
          "name": "stdout",
          "text": [
            "reward_matrix \n",
            " [[ -1  -1  -1  -1   0  -1]\n",
            " [ -1  -1  -1   0  -1 100]\n",
            " [ -1  -1  -1   0  -1  -1]\n",
            " [ -1   0   0  -1  -1  -1]\n",
            " [  0  -1  -1  -1  -1 100]\n",
            " [ -1  -1  -1  -1   0 100]]\n",
            "Random choice of action from [0, 5] is 0\n",
            "0\n"
          ]
        }
      ]
    }
  ]
}