{
  "nbformat": 4,
  "nbformat_minor": 0,
  "metadata": {
    "colab": {
      "provenance": [],
      "include_colab_link": true
    },
    "kernelspec": {
      "name": "python3",
      "display_name": "Python 3"
    },
    "language_info": {
      "name": "python"
    }
  },
  "cells": [
    {
      "cell_type": "markdown",
      "metadata": {
        "id": "view-in-github",
        "colab_type": "text"
      },
      "source": [
        "<a href=\"https://colab.research.google.com/github/nalinis07/PRO_Colabs/blob/MASTER/PRO_C124_Reference_code.ipynb\" target=\"_parent\"><img src=\"https://colab.research.google.com/assets/colab-badge.svg\" alt=\"Open In Colab\"/></a>"
      ]
    },
    {
      "cell_type": "markdown",
      "source": [
        "What is a **Matrix**?\n",
        "\n",
        "We know that is it the arrangement of numbers in tabular form. In Python, we use 2D lists or arrays to represent a matrix. A Matrix should always have a numerical value.\n",
        "\n",
        "1D list: It is the list with one row and many columns as shown.\n",
        "\n",
        "2D list: It is the list of lists. It can have any number of rows and columns.\n"
      ],
      "metadata": {
        "id": "7pi_JjSnXDm5"
      }
    },
    {
      "cell_type": "code",
      "source": [
        "# Method 1 to create a 1D and 2D list\n",
        "A = [3,2,-1,9,5]\n",
        "print(A)\n",
        "B =[[1,-2,3],[8,4,6],[-6,5,3]]\n",
        "print(B)"
      ],
      "metadata": {
        "colab": {
          "base_uri": "https://localhost:8080/"
        },
        "id": "EjzftTTIXC-r",
        "outputId": "ef82e1bf-bebc-4e41-aafa-24575bf22bc8"
      },
      "execution_count": null,
      "outputs": [
        {
          "output_type": "stream",
          "name": "stdout",
          "text": [
            "[3, 2, -1, 9, 5]\n",
            "[[1, -2, 3], [8, 4, 6], [-6, 5, 3]]\n"
          ]
        }
      ]
    },
    {
      "cell_type": "markdown",
      "source": [
        "**NumPy** library provides different dedicated operations on arrays and provides faster operations on arrays."
      ],
      "metadata": {
        "id": "gJAWuKhyfm9S"
      }
    },
    {
      "cell_type": "code",
      "execution_count": null,
      "metadata": {
        "colab": {
          "base_uri": "https://localhost:8080/"
        },
        "id": "QTSOc5dveetF",
        "outputId": "0f338f47-2258-4dc9-95d6-2cbc796dd488"
      },
      "outputs": [
        {
          "output_type": "stream",
          "name": "stdout",
          "text": [
            "[1 2 3 4 5]\n",
            "<class 'numpy.ndarray'>\n"
          ]
        }
      ],
      "source": [
        "#Method to create a 1D array using NumPy\n",
        "\n",
        "import numpy as np\n",
        "\n",
        "arr = np.array([1, 2, 3, 4, 5])\n",
        "print(arr)\n",
        "print(type(arr))"
      ]
    },
    {
      "cell_type": "code",
      "source": [
        "#Method-2 to create a 2D array using NumPy\n",
        "\n",
        "arr_2d =np.array([[1,2,3],[4,5,6],[7,8,9]])\n",
        "print(arr_2d)\n",
        "type(arr_2d)"
      ],
      "metadata": {
        "colab": {
          "base_uri": "https://localhost:8080/"
        },
        "id": "mWdX3b9fkE5l",
        "outputId": "a4c1226d-765b-4297-d321-f438165e8822"
      },
      "execution_count": null,
      "outputs": [
        {
          "output_type": "stream",
          "name": "stdout",
          "text": [
            "[[1 2 3]\n",
            " [4 5 6]\n",
            " [7 8 9]]\n"
          ]
        },
        {
          "output_type": "execute_result",
          "data": {
            "text/plain": [
              "numpy.ndarray"
            ]
          },
          "metadata": {},
          "execution_count": 3
        }
      ]
    },
    {
      "cell_type": "code",
      "source": [
        "#Array with elements of different data types\n",
        "\n",
        "arr_2d_1 =np.array([[1,2,3],['a',5,True],[7,8,9]])\n",
        "print(arr_2d_1)\n",
        "type(arr_2d_1)"
      ],
      "metadata": {
        "colab": {
          "base_uri": "https://localhost:8080/"
        },
        "id": "_Qot-ThBlNXS",
        "outputId": "c7484274-3b20-4118-f83e-f57cd7f72a56"
      },
      "execution_count": null,
      "outputs": [
        {
          "output_type": "stream",
          "name": "stdout",
          "text": [
            "[['1' '2' '3']\n",
            " ['a' '5' 'True']\n",
            " ['7' '8' '9']]\n"
          ]
        },
        {
          "output_type": "execute_result",
          "data": {
            "text/plain": [
              "numpy.ndarray"
            ]
          },
          "metadata": {},
          "execution_count": 4
        }
      ]
    },
    {
      "cell_type": "markdown",
      "source": [
        "Accessing elements of 2D lists and arrays"
      ],
      "metadata": {
        "id": "gTyC68aBmaV8"
      }
    },
    {
      "cell_type": "code",
      "source": [
        "#Accessing elements of 1D list or array\n",
        "print(A)\n",
        "print(A[1])\n",
        "print(arr)\n",
        "print(arr[2])"
      ],
      "metadata": {
        "colab": {
          "base_uri": "https://localhost:8080/"
        },
        "id": "zRJOKcYCrdL2",
        "outputId": "20595f9e-6762-440a-f9c5-4f1ba0cfe341"
      },
      "execution_count": null,
      "outputs": [
        {
          "output_type": "stream",
          "name": "stdout",
          "text": [
            "[3, 2, -1, 9, 5]\n",
            "2\n",
            "[1 2 3 4 5]\n",
            "3\n"
          ]
        }
      ]
    },
    {
      "cell_type": "code",
      "source": [
        "#accessing elements of 2D array method1\n",
        "print(arr_2d)\n",
        "print(arr_2d[1,2])\n",
        "#accessing elements of 2D array method2\n",
        "print(arr_2d[0][1])"
      ],
      "metadata": {
        "colab": {
          "base_uri": "https://localhost:8080/"
        },
        "id": "9Z85uTpqmZSi",
        "outputId": "77994495-95d3-4c93-bd40-118a37fc746d"
      },
      "execution_count": null,
      "outputs": [
        {
          "output_type": "stream",
          "name": "stdout",
          "text": [
            "[[1 2 3]\n",
            " [4 5 6]\n",
            " [7 8 9]]\n",
            "6\n",
            "2\n"
          ]
        }
      ]
    },
    {
      "cell_type": "markdown",
      "source": [
        "Updating elements of 2D Lists"
      ],
      "metadata": {
        "id": "OtdsdRVYtA2S"
      }
    },
    {
      "cell_type": "code",
      "source": [
        "#To update an element from 2D list/arrays\n",
        "print(arr_2d)\n",
        "print('----------------')\n",
        "# method 1\n",
        "arr_2d[1,2]=-4\n",
        "print(arr_2d)\n",
        "print('----------------')\n",
        "# method 2\n",
        "arr_2d[1,2]=8\n",
        "print(arr_2d)\n"
      ],
      "metadata": {
        "id": "vFQzX-33rV15",
        "colab": {
          "base_uri": "https://localhost:8080/"
        },
        "outputId": "e6553b05-703f-42eb-9972-1dadfc702ec9"
      },
      "execution_count": null,
      "outputs": [
        {
          "output_type": "stream",
          "name": "stdout",
          "text": [
            "[[1 2 3]\n",
            " [4 5 6]\n",
            " [7 8 9]]\n",
            "----------------\n",
            "[[ 1  2  3]\n",
            " [ 4  5 -4]\n",
            " [ 7  8  9]]\n",
            "----------------\n",
            "[[1 2 3]\n",
            " [4 5 8]\n",
            " [7 8 9]]\n"
          ]
        }
      ]
    },
    {
      "cell_type": "markdown",
      "source": [
        "Add/Subtract elements of 2D lists"
      ],
      "metadata": {
        "id": "L8rcQluFvqmK"
      }
    },
    {
      "cell_type": "code",
      "source": [
        "a=np.array([[1,3],\n",
        "            [5,4]])\n",
        "b=np.array([[7,8],\n",
        "            [6,9]])\n",
        "rows=2\n",
        "cols=2\n",
        "c=[[0,0],\n",
        "   [0,0]]\n",
        "for i in range(rows):\n",
        "  for j in range(cols):\n",
        "    c[i][j]=a[i][j]+b[i][j]\n",
        "print(a,'\\n')\n",
        "print(b,'\\n')\n",
        "print(c)"
      ],
      "metadata": {
        "colab": {
          "base_uri": "https://localhost:8080/"
        },
        "id": "JVQGXsi44lPj",
        "outputId": "c608d199-38fc-4e9e-df9b-502a8b6a8d90"
      },
      "execution_count": null,
      "outputs": [
        {
          "output_type": "stream",
          "name": "stdout",
          "text": [
            "[[1 3]\n",
            " [5 4]] \n",
            "\n",
            "[[7 8]\n",
            " [6 9]] \n",
            "\n",
            "[[8, 11], [11, 13]]\n"
          ]
        }
      ]
    },
    {
      "cell_type": "markdown",
      "source": [
        "Multiply elements of 2D lists"
      ],
      "metadata": {
        "id": "b5IK64hLvuIw"
      }
    },
    {
      "cell_type": "markdown",
      "source": [
        "Scalar Multiplication"
      ],
      "metadata": {
        "id": "fZS4DTTf1wJT"
      }
    },
    {
      "cell_type": "code",
      "source": [
        "b=np.array([[2,-2],\n",
        "            [0,5],\n",
        "            [4,7]])      # 3x2 matrix\n",
        "\n",
        "print(b,'\\n')\n",
        "n=5                      #scalar\n",
        "mul=np.zeros([3,2])\n",
        "for i in range(3):\n",
        "  for j in range(2):\n",
        "    #print(b[i][j])\n",
        "    mul[i][j]= n* b[i][j]\n",
        "    #print(mul[i][j])\n",
        "\n",
        "\n",
        "for rows in mul:\n",
        "  print(rows)"
      ],
      "metadata": {
        "colab": {
          "base_uri": "https://localhost:8080/"
        },
        "id": "thVJZMb229eX",
        "outputId": "9c9ae64b-7cf5-4874-de07-4fd7d2b43e6f"
      },
      "execution_count": null,
      "outputs": [
        {
          "output_type": "stream",
          "name": "stdout",
          "text": [
            "[[ 2 -2]\n",
            " [ 0  5]\n",
            " [ 4  7]] \n",
            "\n",
            "[ 10. -10.]\n",
            "[ 0. 25.]\n",
            "[20. 35.]\n"
          ]
        }
      ]
    },
    {
      "cell_type": "code",
      "source": [
        "#Use the multiply() method\n",
        "\n",
        "n = 5     #scalar\n",
        "\n",
        "arr1= np.array([1, 2, 3])\n",
        "arr2=np.multiply(arr1,n)\n",
        "print(arr2)\n",
        "print('---------------------')\n",
        "\n",
        "arr3= np.array([[1, 2],\n",
        "                [3, 4]])\n",
        "arr4=np.multiply(arr,n)\n",
        "print(arr4)\n",
        "print('---------------------')\n",
        "\n",
        "print(a)\n",
        "e=np.multiply(a,n)\n",
        "print(e)"
      ],
      "metadata": {
        "colab": {
          "base_uri": "https://localhost:8080/"
        },
        "id": "gqJE1g4P1vQI",
        "outputId": "85222730-fd50-44de-dc58-9739e785d304"
      },
      "execution_count": null,
      "outputs": [
        {
          "output_type": "stream",
          "name": "stdout",
          "text": [
            "[ 5 10 15]\n",
            "---------------------\n",
            "[ 5 10 15 20 25]\n",
            "---------------------\n",
            "[[1 3]\n",
            " [5 4]]\n",
            "[[ 5 15]\n",
            " [25 20]]\n"
          ]
        }
      ]
    },
    {
      "cell_type": "code",
      "source": [
        "#Additional Activity\n",
        "#To multiply elements of 2D list/arrays\n",
        "\n",
        "a=np.array([[2,3,-4],\n",
        "             [6,1,0],\n",
        "             [8,9,3]])    # 3x3 matrix\n",
        "\n",
        "b=np.array([[2,-2],\n",
        "            [0,5],\n",
        "            [4,7]])      # 3x2 matrix\n",
        "\n",
        "c= np.zeros([3,2])\n",
        "\n",
        "print(c,'\\n')\n",
        "rows_a=3\n",
        "cols_a=rows_b=2\n",
        "cols_b=3\n",
        "\n",
        "for i in range(3):\n",
        "  for j in range(2):\n",
        "    for k in range(3):\n",
        "      c[i][j]=c[i][j]+a[i][k]*b[k][j]\n",
        "      #print(c[i][j])\n",
        "\n",
        "\n",
        "for rows in c:\n",
        "  print(rows)"
      ],
      "metadata": {
        "id": "fNW2-WvgvUUW",
        "colab": {
          "base_uri": "https://localhost:8080/"
        },
        "outputId": "1e9720e0-f3c8-4f25-83f8-7b2c5834f74c"
      },
      "execution_count": null,
      "outputs": [
        {
          "output_type": "stream",
          "name": "stdout",
          "text": [
            "[[0. 0.]\n",
            " [0. 0.]\n",
            " [0. 0.]] \n",
            "\n",
            "[-12. -17.]\n",
            "[12. -7.]\n",
            "[28. 50.]\n"
          ]
        }
      ]
    }
  ]
}